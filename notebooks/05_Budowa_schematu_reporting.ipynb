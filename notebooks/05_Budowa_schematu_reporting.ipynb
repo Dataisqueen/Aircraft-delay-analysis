{
 "cells": [
  {
   "cell_type": "markdown",
   "metadata": {},
   "source": [
    " # Dashboard biznesowy\n",
    " Analiza przygotowana w poprzednim kroku została odebrana pozytywnie. W związku z tym, zostałam poproszona\n",
    " o przygotowanie raportu na podstawie danych z roku 2020. Ma być on później  wdrożony przez zespół IT na zewnętrzny\n",
    " serwis. Wybór padł na `Dash`.\n"
   ]
  },
  {
   "cell_type": "markdown",
   "metadata": {},
   "source": [
    " # Wymagania biznesowe\n",
    " Po prezentacji wyników analizy na niezależnym spotkaniu, zostały określone następujące obszary raportowania:\n",
    " 1. Wyświetlanie TOP 10 lotnisk na podstawie liczby odlotów, wyświetlona ma być również informacja o liczbie przylotów - widok `top_airports_by_departure`.\n",
    " 1. Wyświetlenie TOP 10 tras na podstawie niezawodności, minimalna liczba lotów odbytych na trasie powinna wynosić co najmniej 10000. Przy czym istotna dla nas jest kolejność, przykładowo trasa (Warszawa, Paryż) jest inna niż (Paryż, Warszawa) - widok `top_reliability_roads`.\n",
    " 1. Porównanie roku 2019 vs. 2020, aby śledzić wpływ COVID na realizację lotów. Interesują nas podejścia:\n",
    "     - miesiąc do miesiąca, przykładowo styczeń 2019 vs. styczeń 2020, luty 2019 vs. luty 2020 itd. - widok `year_to_year_comparision`,\n",
    "     - dzień do dnia, przykładowo wtorek 2019 vs. wtorek 2020 - widok `day_to_day_comparision`.\n",
    " 1. Dzienny."
   ]
  },
  {
   "cell_type": "markdown",
   "metadata": {},
   "source": [
    " # Aktualizacja bazy danych\n"
   ]
  },
  {
   "cell_type": "markdown",
   "metadata": {},
   "source": [
    "Importuję potrzebne biblioteki"
   ]
  },
  {
   "cell_type": "code",
   "execution_count": 1,
   "metadata": {},
   "outputs": [],
   "source": [
    "import pandas as pd\n",
    "from sqlalchemy import create_engine, text\n",
    "import matplotlib.pyplot as plt\n",
    "\n",
    "from psycopg2 import connect"
   ]
  },
  {
   "cell_type": "markdown",
   "metadata": {},
   "source": [
    " ## Konfiguracja połączenia\n",
    " Uzupełniam konfigurację połączenia"
   ]
  },
  {
   "cell_type": "code",
   "execution_count": 2,
   "metadata": {},
   "outputs": [],
   "source": [
    "user='postgres'\n",
    "password='XYZ'\n",
    "host=\"127.0.0.1\"\n",
    "database='Airlines'\n",
    "\n",
    "cnx = connect(user=user,\n",
    "                password=password,\n",
    "                host=host,\n",
    "                database=database)\n",
    "\n",
    "cursor = cnx.cursor()"
   ]
  },
  {
   "cell_type": "markdown",
   "metadata": {},
   "source": [
    " ## Wczytanie pliku `reporting.sql`\n",
    "Wczytuję wcześniej przygotowany przez mnie plik `reporting.sql` z sql"
   ]
  },
  {
   "cell_type": "code",
   "execution_count": 5,
   "metadata": {},
   "outputs": [],
   "source": [
    "with open(\"C:\\\\Users\\\\miejs\\\\Desktop\\\\Pliki do zadania\\\\sql\\\\reporting.sql\", 'r') as file:\n",
    "    sql_script = file.read()"
   ]
  },
  {
   "cell_type": "markdown",
   "metadata": {},
   "source": [
    "Rozdzielam zawartość pliku `reporting.sql` na mniejsze kwerendy używając `;`"
   ]
  },
  {
   "cell_type": "code",
   "execution_count": 6,
   "metadata": {},
   "outputs": [],
   "source": [
    "queries = sql_script.split(';')"
   ]
  },
  {
   "cell_type": "markdown",
   "metadata": {},
   "source": [
    "Inicjuję strukturę bazy danych"
   ]
  },
  {
   "cell_type": "code",
   "execution_count": null,
   "metadata": {},
   "outputs": [],
   "source": [
    "for query in queries:\n",
    "    if len(query) > 0:\n",
    "        print(query)\n",
    "        cursor.execute(query)"
   ]
  },
  {
   "cell_type": "markdown",
   "metadata": {},
   "source": [
    " Zatwierdzenie wszystkich operacji na bazie, czyli stworzenie widoków"
   ]
  },
  {
   "cell_type": "code",
   "execution_count": 8,
   "metadata": {},
   "outputs": [],
   "source": [
    "cnx.commit()"
   ]
  }
 ],
 "metadata": {
  "kernelspec": {
   "display_name": "Python 3 (ipykernel)",
   "language": "python",
   "name": "python3"
  },
  "language_info": {
   "codemirror_mode": {
    "name": "ipython",
    "version": 3
   },
   "file_extension": ".py",
   "mimetype": "text/x-python",
   "name": "python",
   "nbconvert_exporter": "python",
   "pygments_lexer": "ipython3",
   "version": "3.9.13"
  }
 },
 "nbformat": 4,
 "nbformat_minor": 2
}
