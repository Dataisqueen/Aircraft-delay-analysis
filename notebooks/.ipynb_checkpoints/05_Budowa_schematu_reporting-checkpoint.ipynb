{
 "cells": [
  {
   "cell_type": "markdown",
   "metadata": {},
   "source": [
    " # Opis notatnika\n",
    " Analiza przygotowana w poprzednim kroku została odebrana pozytywnie. W związku z tym, zostaliśmy poproszeni\n",
    " o przygotowanie raportu na podstawie danych z roku 2020. Ma być on później  wdrożony przez zespół IT na zewnętrzny\n",
    " serwis. Wybór padł na `Dash`.\n",
    "\n",
    " Zadanie wykonamy w dwóch krokach:\n",
    " 1. Znając wymagania raportu, stworzymy na bazie danych odpowiednie komponenty, które zostaną następnie wykorzystane do wizualizacji.\n",
    " 1. Stworzymy raport używając `Dash`.\n",
    "\n",
    " Ten notatnik skupia się na odpowiednim przygotowaniu bazy danych pod cele raportowe."
   ]
  },
  {
   "cell_type": "markdown",
   "metadata": {},
   "source": [
    " # Wymagania biznesowe\n",
    " Po prezentacji wyników analizy na niezależnym spotkaniu, zostały określone następujące obszary raportowania:\n",
    " 1. Wyświetlanie TOP 10 lotnisk na podstawie liczby odlotów, wyświetlona ma być również informacja o liczbie przylotów - widok `top_airports_by_departure`.\n",
    " 1. Wyświetlenie TOP 10 tras na podstawie niezawodności, minimalna liczba lotów odbytych na trasie powinna wynosić co najmniej 10000. Przy czym istotna dla nas jest kolejność, przykładowo trasa (Warszawa, Paryż) jest inna niż (Paryż, Warszawa) - widok `top_reliability_roads`.\n",
    " 1. Porównanie roku 2019 vs. 2020, aby śledzić wpływ COVID na realizację lotów. Interesują nas podejścia:\n",
    "     - miesiąc do miesiąca, przykładowo styczeń 2019 vs. styczeń 2020, luty 2019 vs. luty 2020 itd. - widok `year_to_year_comparision`,\n",
    "     - dzień do dnia, przykładowo wtorek 2019 vs. wtorek 2020 - widok `day_to_day_comparision`.\n",
    " 1. Dzienny."
   ]
  },
  {
   "cell_type": "markdown",
   "metadata": {},
   "source": [
    " # Podejście techniczne do problemu\n",
    " Naszym celem będzie odseparowanie warstwy przygotowania danych (logika raportu) od warstwy prezentacyjnej (wizualizacja).\n",
    " Chcemy zapewnić, aby odpowiednie procesy zajmowały się tylko swoimi zadaniami. W ten sposób warstwa prezentacyjna powinna w jak najmniejszym stopniu przetwarzać otrzymane dane.\n",
    "\n",
    " To podejście będzie spójne ze współczesnym sposobem projektowania aplikacji. Ma to też dodatkowy benefit - ze względu na wolumen danych na bazie, nie musimy ich najpierw pobierać - warstwa logiczna je odpowiednio zagreguje i przekaże zdecydowanie mniejszą liczbę wierszy, co przyśpieszy działanie całości.\n",
    "\n",
    " > Logika działania tego notebooka jest zbieżna z tą, którą robiliśmy już na przykładzie `Inicjowania bazy danych` - warto mieć go pod ręką."
   ]
  },
  {
   "cell_type": "markdown",
   "metadata": {},
   "source": [
    " # Przygotowanie bazy danych\n",
    " Na bazie danych, gdzie umieszczone są już dane, wszystko wylądowało na schemacie `public`. Ponieważ mamy już dedykowany obszar wykorzystania danych, stworzymy sobie schemat dedykowany - `reporting`.\n",
    " Dalej stworzymy widoki, które odpowiedzą na zadane wcześniej pytania\n",
    "\n",
    " ## Stworzenie dedykowanego schematu\n",
    " W pliku `reporting.sql` napisz kwerendę, która stworzy (o ile już nie istnieje) schemat `reporting`.\n",
    " Ten temat nie był omawiany w trakcie trwania kursu, jednak łatwo można uzupełnić wiedzę czytając np. [ten](https://www.postgresqltutorial.com/postgresql-administration/postgresql-create-schema/) samouczek."
   ]
  },
  {
   "cell_type": "markdown",
   "metadata": {},
   "source": [
    " # Aktualizacja bazy danych\n",
    " W tym miejscu odpowiednio skonfiguruj połączenie do bazy danych."
   ]
  },
  {
   "cell_type": "markdown",
   "metadata": {},
   "source": [
    " Tutaj zaimportuj potrzebne biblioteki"
   ]
  },
  {
   "cell_type": "code",
   "execution_count": 1,
   "metadata": {},
   "outputs": [],
   "source": [
    "import pandas as pd\n",
    "from sqlalchemy import create_engine, text\n",
    "import matplotlib.pyplot as plt\n",
    "\n",
    "from psycopg2 import connect"
   ]
  },
  {
   "cell_type": "markdown",
   "metadata": {},
   "source": [
    " ## Konfiguracja połączenia\n",
    " Tutaj uzupełnij konfigurację połączenia"
   ]
  },
  {
   "cell_type": "code",
   "execution_count": 2,
   "metadata": {},
   "outputs": [],
   "source": [
    "user='postgres'\n",
    "password='master'\n",
    "host=\"127.0.0.1\"\n",
    "database='Airlines'"
   ]
  },
  {
   "cell_type": "markdown",
   "metadata": {},
   "source": [
    " Tutaj zdefiniuj zmienną `con` oraz `cursor`"
   ]
  },
  {
   "cell_type": "code",
   "execution_count": 3,
   "metadata": {},
   "outputs": [],
   "source": [
    "cnx = connect(user=user,\n",
    "                password=password,\n",
    "                host=host,\n",
    "                database=database)"
   ]
  },
  {
   "cell_type": "code",
   "execution_count": 4,
   "metadata": {},
   "outputs": [],
   "source": [
    "cursor = cnx.cursor()"
   ]
  },
  {
   "cell_type": "markdown",
   "metadata": {},
   "source": [
    " ## Wczytanie pliku `reporting.sql`\n",
    " Z katalogu `sql` wczytaj plik `reporting.sql`"
   ]
  },
  {
   "cell_type": "code",
   "execution_count": 5,
   "metadata": {},
   "outputs": [],
   "source": [
    "with open(\"C:\\\\Users\\\\miejs\\\\Desktop\\\\Pliki do zadania\\\\sql\\\\reporting.sql\", 'r') as file:\n",
    "    sql_script = file.read()"
   ]
  },
  {
   "cell_type": "markdown",
   "metadata": {},
   "source": [
    " W tym miejscu odpowiednio rozdziel zawartość pliku `reporting.sql` na mniejsze kwerendy używając `;`"
   ]
  },
  {
   "cell_type": "code",
   "execution_count": 6,
   "metadata": {},
   "outputs": [],
   "source": [
    "queries = sql_script.split(';')"
   ]
  },
  {
   "cell_type": "markdown",
   "metadata": {},
   "source": [
    " W tym miejscu wykonaj każdą z kwerend, aby zainicjować strukturę bazy danych"
   ]
  },
  {
   "cell_type": "code",
   "execution_count": 7,
   "metadata": {},
   "outputs": [
    {
     "name": "stdout",
     "output_type": "stream",
     "text": [
      "/*\n",
      "Tutaj zdefiniuj schemÄ™ `reporting`\n",
      "*/\n",
      "CREATE SCHEMA IF NOT EXISTS reporting\n",
      "\n",
      "\n",
      "/*\n",
      "Tutaj napisz definicjÄ™ widoku reporting.flight, ktĂłra:\n",
      "- bÄ™dzie usuwaÄ‡ dane o lotach anulowanych `cancelled = 0`\n",
      "- bÄ™dzie zawieraÄ‡ kolumnÄ™ `is_delayed`, zgodnie z wczeĹ›niejszÄ… definicjÄ… tj. `is_delayed = 1 if dep_delay_new > 0 else 0` (zaimplementowana w SQL)\n",
      "\n",
      "WskazĂłwka:\n",
      "- SQL - analiza danych > DzieĹ„ 4 Proceduralny SQL > WyraĹĽenia warunkowe\n",
      "- SQL - analiza danych > Przygotowanie do zjazdu 2 > Widoki\n",
      "*/\n",
      "CREATE OR REPLACE VIEW reporting.flight as\n",
      "SELECT\n",
      "    f.*,\n",
      "    (CASE WHEN f.dep_delay_new > 0 then 1 else 0 end) as is_delayed\n",
      "FROM\n",
      "    flight f\n",
      "WHERE\n",
      "    f.cancelled != 1\n",
      "\n",
      "\n",
      "\n",
      "/*\n",
      "Tutaj napisz definicjÄ™ widoku reporting.top_reliability_roads, ktĂłra bÄ™dzie zawieraĹ‚a nastÄ™pujÄ…ce kolumny:\n",
      "- `origin_airport_id`,\n",
      "- `origin_airport_name`,\n",
      "- `dest_airport_id`,\n",
      "- `dest_airport_name`,\n",
      "- `year`,\n",
      "- `cnt` - jako liczba wykonananych lotĂłw na danej trasie,\n",
      "- `reliability` - jako odsetek opĂłĹşnieĹ„ na danej trasie,\n",
      "- `nb` - numerowane od 1, 2, 3 wedĹ‚ug kolumny `reliability`. W przypadku takich samych wartoĹ›ci powino zwrĂłciÄ‡ 1, 2, 2, 3... \n",
      "PamiÄ™taj o tym, ĹĽe w wyniku powinny pojawiÄ‡ siÄ™ takie trasy, na ktĂłrych odbyĹ‚o siÄ™ ponad 10000 lotĂłw.\n",
      "\n",
      "WskazĂłwka:\n",
      "- SQL - analiza danych > DzieĹ„ 2 Relacje oraz JOIN > JOIN\n",
      "- SQL - analiza danych > DzieĹ„ 3 - Analiza danych > Grupowanie\n",
      "- SQL - analiza danych > DzieĹ„ 1 Podstawy SQL > Aliasowanie\n",
      "- SQL - analiza danych > DzieĹ„ 1 Podstawy SQL > Podzapytania\n",
      "*/\n",
      "CREATE OR REPLACE VIEW reporting.top_reliability_roads AS\n",
      "SELECT\n",
      "    tr_w_oa.*,\n",
      "    da.name AS dest_airport_name\n",
      "FROM\n",
      "    (SELECT\n",
      "        tr.*,\n",
      "        oa.name as origin_airport_name\n",
      "    FROM\n",
      "        (SELECT \n",
      "            origin_airport_id, \n",
      "            dest_airport_id,\n",
      "            year,\n",
      "            COUNT(*) AS cnt,\n",
      "            1 - SUM(is_delayed)::numeric/COUNT(*)::numeric as reliability,\n",
      "            row_number() OVER (ORDER BY 1 - SUM(is_delayed)::numeric/COUNT(*)::numeric DESC) AS nb\n",
      "        FROM \n",
      "            reporting.flight \n",
      "        GROUP BY \n",
      "            origin_airport_id, dest_airport_id, year\n",
      "        HAVING\n",
      "            COUNT(*) > 10000\n",
      "\n",
      "        ) tr\n",
      "    LEFT JOIN\n",
      "        (SELECT\n",
      "            DISTINCT al.origin_airport_id,\n",
      "            al.name\n",
      "        FROM\n",
      "            airport_list al\n",
      "            LEFT JOIN\n",
      "            reporting.flight rf\n",
      "            ON\n",
      "            rf.origin_airport_id=al.origin_airport_id\n",
      "        ) oa\n",
      "    ON\n",
      "        tr.origin_airport_id=oa.origin_airport_id\n",
      "    ) tr_w_oa\n",
      "LEFT JOIN\n",
      "    (SELECT\n",
      "        DISTINCT al.origin_airport_id,\n",
      "        al.name\n",
      "    FROM\n",
      "        airport_list al\n",
      "    LEFT JOIN\n",
      "        reporting.flight rf\n",
      "    ON\n",
      "        rf.dest_airport_id=al.origin_airport_id\n",
      "    ) da\n",
      "ON\n",
      "    tr_w_oa.dest_airport_id=da.origin_airport_id\n",
      "\n",
      "\n",
      "\n",
      "/*\n",
      "Tutaj napisz definicjÄ™ widoku reporting.year_to_year_comparision, ktĂłra bÄ™dzie zawieraĹ‚ nastÄ™pujÄ…ce kolumny:\n",
      "- `year`\n",
      "- `month`,\n",
      "- `flights_amount`\n",
      "- `reliability`\n",
      "*/\n",
      "CREATE OR REPLACE VIEW reporting.year_to_year_comparison AS\n",
      "SELECT \n",
      "    year,\n",
      "    month,\n",
      "    COUNT(*) AS flights_amount,\n",
      "    1 - SUM(is_delayed)::numeric/COUNT(*)::numeric as reliability\n",
      "FROM \n",
      "    reporting.flight \n",
      "GROUP BY \n",
      "    year, month\n",
      "\n",
      "\n",
      "\n",
      "/*\n",
      "Tutaj napisz definicjÄ™ widoku reporting.day_to_day_comparision, ktĂłry bÄ™dzie zawieraĹ‚ nastÄ™pujÄ…ce kolumny:\n",
      "- `year`\n",
      "- `day_of_week`\n",
      "- `flights_amount`\n",
      "*/\n",
      "CREATE OR REPLACE VIEW reporting.day_to_day_comparison AS\n",
      "SELECT \n",
      "    year,\n",
      "    day_of_week,\n",
      "    COUNT(*) AS flights_amount\n",
      "FROM \n",
      "    reporting.flight \n",
      "GROUP BY \n",
      "    year, day_of_week\n",
      "\n",
      "\n",
      "\n",
      "/*\n",
      "Tutaj napisz definicjÄ™ widoku reporting.day_by_day_reliability, ktory bÄ™dzie zawieraĹ‚ nastÄ™pujÄ…ce kolumny:\n",
      "- `date` jako zĹ‚oĹĽenie kolumn `year`, `month`, `day`, powinna byÄ‡ typu `date`\n",
      "- `reliability` jako odsetek opĂłĹşnieĹ„ danego dnia\n",
      "\n",
      "WskazĂłwki:\n",
      "- formaty dat w postgresql: [klik](https://www.postgresql.org/docs/13/functions-formatting.html),\n",
      "- jeĹ›li chcesz dodaÄ‡ zera na poczÄ…tek liczby np. `1` > `01`, posĹ‚uĹĽ siÄ™ metodÄ… `LPAD`: [przykĹ‚ad](https://stackoverflow.com/questions/26379446/padding-zeros-to-the-left-in-postgresql),\n",
      "- do konwertowania ciÄ…gu znakĂłw na datÄ™ najwygodniej w Postgres uĹĽyÄ‡ `to_date`: [przykĹ‚ad](https://www.postgresqltutorial.com/postgresql-date-functions/postgresql-to_date/)\n",
      "- do zĹ‚Ä…czenia kilku kolumn / wartoĹ›ci typu string, uĹĽywa siÄ™ operatora `||`, przykĹ‚adowo: SELECT 'a' || 'b' as example\n",
      "*/\n",
      "CREATE OR REPLACE VIEW reporting.day_by_day_reliability AS\n",
      "SELECT \n",
      "    TO_DATE(year::text || LPAD(month::text, 2, '0') || LPAD(day_of_month::text, 2, '0'), 'YYYYMMDD') as date,\n",
      "    SUM(is_delayed)::numeric/COUNT(*)::numeric as reliability\n",
      "FROM \n",
      "    reporting.flight \n",
      "GROUP BY \n",
      "    date\n"
     ]
    }
   ],
   "source": [
    "for query in queries:\n",
    "    if len(query) > 0:\n",
    "        print(query)\n",
    "        cursor.execute(query)"
   ]
  },
  {
   "cell_type": "markdown",
   "metadata": {},
   "source": [
    " Zatwierdzenie wszystkich operacji na bazie, czyli stworzenie widoków"
   ]
  },
  {
   "cell_type": "code",
   "execution_count": 8,
   "metadata": {},
   "outputs": [],
   "source": [
    "cnx.commit()"
   ]
  },
  {
   "cell_type": "markdown",
   "metadata": {},
   "source": [
    " ### Sprawdzenie"
   ]
  },
  {
   "cell_type": "code",
   "execution_count": 9,
   "metadata": {},
   "outputs": [],
   "source": [
    "# Ten kod chyba wygląda znajomo....\n",
    "# istnienie widoków możemy sprawdzić tak samo jak tabele\n",
    "def check_if_table_exists(table_name):\n",
    "    msg = f\"Sprawdzam, czy istnieje tabela {table_name}\"\n",
    "    print(msg)\n",
    "\n",
    "    query = f\"select 1 from {table_name}\"\n",
    "    # jeżeli tabela nie istnieje, ten krok zwróci wyjątek\n",
    "    cursor.execute(query)\n",
    "    print('OK!')"
   ]
  },
  {
   "cell_type": "code",
   "execution_count": 10,
   "metadata": {},
   "outputs": [],
   "source": [
    "views_to_test = [\n",
    "    'reporting.flight',\n",
    "    'reporting.top_reliability_roads',\n",
    "    'reporting.year_to_year_comparison',\n",
    "    'reporting.day_to_day_comparison',\n",
    "    'reporting.day_by_day_reliability'\n",
    "]"
   ]
  },
  {
   "cell_type": "code",
   "execution_count": 11,
   "metadata": {},
   "outputs": [
    {
     "name": "stdout",
     "output_type": "stream",
     "text": [
      "Sprawdzam, czy istnieje tabela reporting.flight\n",
      "OK!\n",
      "Sprawdzam, czy istnieje tabela reporting.top_reliability_roads\n",
      "OK!\n",
      "Sprawdzam, czy istnieje tabela reporting.year_to_year_comparison\n",
      "OK!\n",
      "Sprawdzam, czy istnieje tabela reporting.day_to_day_comparison\n",
      "OK!\n",
      "Sprawdzam, czy istnieje tabela reporting.day_by_day_reliability\n",
      "OK!\n"
     ]
    }
   ],
   "source": [
    "for view in views_to_test:\n",
    "    check_if_table_exists(view)"
   ]
  },
  {
   "cell_type": "code",
   "execution_count": 12,
   "metadata": {},
   "outputs": [
    {
     "name": "stdout",
     "output_type": "stream",
     "text": [
      "Wszystko wygląda OK :) Możesz przejść do kolejnego zadania.\n"
     ]
    }
   ],
   "source": [
    "cnx.close()\n",
    "msg = \"Wszystko wygląda OK :) Możesz przejść do kolejnego zadania.\"\n",
    "print(msg)"
   ]
  },
  {
   "cell_type": "markdown",
   "metadata": {},
   "source": [
    " # Podsumowanie\n",
    " W tym notatniku stworzyliśmy nowy schemat - `reporting`, którego zadaniem jest przygotowanie naszych danych\n",
    " do wizualizacji. Dalsza część pracy będzie polegała na wyświetleniu w wizualnie atrakcyjny sposób danych w interaktywnym raporcie stworzonym\n",
    " za pomocą `Dash`."
   ]
  }
 ],
 "metadata": {
  "kernelspec": {
   "display_name": "Python 3 (ipykernel)",
   "language": "python",
   "name": "python3"
  },
  "language_info": {
   "codemirror_mode": {
    "name": "ipython",
    "version": 3
   },
   "file_extension": ".py",
   "mimetype": "text/x-python",
   "name": "python",
   "nbconvert_exporter": "python",
   "pygments_lexer": "ipython3",
   "version": "3.9.13"
  }
 },
 "nbformat": 4,
 "nbformat_minor": 2
}
