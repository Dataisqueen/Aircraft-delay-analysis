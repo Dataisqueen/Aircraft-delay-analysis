{
 "cells": [
  {
   "cell_type": "markdown",
   "metadata": {
    "id": "5ElN28rKeJB0"
   },
   "source": [
    " # Opis notatnika\n",
    " W poprzednich krokach pobraliśmy dane oraz przygotowaliśmy bazę `Postgres` na import. Głównym celem w tym notatniku jest  odpowiednie dostosowanie struktury danych z plików źródłowych do formatu zgodnego z `Postgres`, a następnie wgranie ich na nasz serwer. Dzięki temu w późniejszych krokach możemy niezależnie użyć danych do analizy czy raportowania.\n",
    "\n",
    " Przy wykonywaniu tego notebooka przydadzą się poniższe elementy kursu oraz materiały dodatkowe:\n",
    " * `SQL - analiza danych > Zjazd 1 - materiały dodatkowe > Export danych z DB > Python` - w celu użycia połączenia razem z `Pandas`,\n",
    " * https://docs.sqlalchemy.org/en/14/core/engines.html - w celu uzupełnienia konfiguracji `Pandas` do `PostgerSQL`,\n",
    " * https://pandas.pydata.org/docs/reference/api/pandas.DataFrame.to_sql.html - eksport danych z `Pandas` na bazę danych.\n",
    "\n",
    " > Uwaga: Ze względu na wolumen danych zawarty w pliku `flight.csv`, wykonanie tego notatnika może zająć nawet kilkadziesiąt minut lub więcej!"
   ]
  },
  {
   "cell_type": "markdown",
   "metadata": {
    "id": "TyoY8QRdeJB6"
   },
   "source": [
    "Tutaj zaimportuj wymagane biblioteki"
   ]
  },
  {
   "cell_type": "code",
   "execution_count": 1,
   "metadata": {
    "id": "iNziBCXSeJB_"
   },
   "outputs": [],
   "source": [
    "import pandas as pd\n",
    "from sqlalchemy import create_engine, text\n",
    "\n",
    "import os\n",
    "from time import time"
   ]
  },
  {
   "cell_type": "markdown",
   "metadata": {
    "id": "HRua_IlQeJCB"
   },
   "source": [
    " ## Połączenie z bazą danych\n",
    " Tutaj uzupełnij konfigurację połączenia"
   ]
  },
  {
   "cell_type": "code",
   "execution_count": 2,
   "metadata": {
    "id": "wT44iHmEeJCB"
   },
   "outputs": [],
   "source": [
    "# Poniżej\n",
    "user = 'postgres'\n",
    "password = 'master'\n",
    "host = '127.0.0.1'\n",
    "db_name = 'Airlines'"
   ]
  },
  {
   "cell_type": "markdown",
   "metadata": {
    "id": "rJ6nP2z2eJCC"
   },
   "source": [
    " Z pomocą artykułu [click](https://docs.sqlalchemy.org/en/14/core/engines.html) stwórz zmienną `engine` oraz `url`. Zgodnie z dokumentacją `Pandas`, zmienna `engine`, będzie potrzebna, by możliwe było wyeksportowanie danych na serwer `SQL`."
   ]
  },
  {
   "cell_type": "markdown",
   "metadata": {
    "id": "LE_fpc4SeJCC"
   },
   "source": [
    " W tym miejscu stwórz zmienne `url` oraz `engine`"
   ]
  },
  {
   "cell_type": "code",
   "execution_count": 3,
   "metadata": {
    "id": "C5qvDHOdeJCD"
   },
   "outputs": [],
   "source": [
    "url = f'postgresql://{user}:{password}@{host}/{db_name}'\n",
    "engine = create_engine(url)"
   ]
  },
  {
   "cell_type": "markdown",
   "metadata": {
    "id": "VRQPq0zCeJCE"
   },
   "source": [
    " # Załadowanie ramek do obszaru roboczego\n",
    " Uzupełnij implementację funkcji `load_raw_data`, która przyjmuje jeden parametr:\n",
    " * `file_name` - nazwa pliku do zaczytania\n",
    " Jej zadaniem jest wczytanie surowego pliku, zmodyfikowanie nazw kolumn z `NAZWA_KOLUMNY` na `nazwa_kolumny` oraz zwrócenie tak zmodyfikowanej ramki danych.\n",
    "\n",
    "Mogą się przydać poniższe elementy kursu:\n",
    " - `Python-Analiza danych -> Dzień 5 - Pandas -> Obróbka danych - częsć 1`\n",
    " - `Python-Analiza danych -> Przygotowanie do zjazdu 3 -> Wstęp do Pandas -> Wczytywanie danych do Pandas` - jakie kodowanie mają pliki?"
   ]
  },
  {
   "cell_type": "code",
   "execution_count": 4,
   "metadata": {
    "id": "53atDnj1eJCF"
   },
   "outputs": [],
   "source": [
    "def load_raw_data(file_name):\n",
    "    raw_data = pd.read_csv(file_name, sep=';')\n",
    "    modified_columns = [column.lower() for column in raw_data.columns]\n",
    "    raw_data.columns = modified_columns\n",
    "    return raw_data"
   ]
  },
  {
   "cell_type": "markdown",
   "metadata": {
    "id": "tSrQ0m21eJCG"
   },
   "source": [
    " # Zaczytanie poszczególnych plików do ramek"
   ]
  },
  {
   "cell_type": "code",
   "execution_count": 5,
   "metadata": {},
   "outputs": [],
   "source": [
    "table_names = ['aircraft', 'airport_weather', 'flight', 'airport_list']"
   ]
  },
  {
   "cell_type": "code",
   "execution_count": 6,
   "metadata": {},
   "outputs": [],
   "source": [
    "# Tworzę scieżki do plików\n",
    "\n",
    "CURRENT_DIR = os.getcwd()\n",
    "PARENT_DIR = os.path.abspath(os.path.join(CURRENT_DIR, os.pardir))\n",
    "file_paths = {}\n",
    "for table_name in table_names:\n",
    "    file_path = f'{PARENT_DIR}\\\\data\\\\raw\\\\{table_name}.csv'\n",
    "    file_paths[table_name] = file_path"
   ]
  },
  {
   "cell_type": "code",
   "execution_count": 7,
   "metadata": {},
   "outputs": [
    {
     "data": {
      "text/plain": [
       "{'aircraft': 'C:\\\\Users\\\\miejs\\\\Desktop\\\\CodersLab Exam\\\\data\\\\raw\\\\aircraft.csv',\n",
       " 'airport_weather': 'C:\\\\Users\\\\miejs\\\\Desktop\\\\CodersLab Exam\\\\data\\\\raw\\\\airport_weather.csv',\n",
       " 'flight': 'C:\\\\Users\\\\miejs\\\\Desktop\\\\CodersLab Exam\\\\data\\\\raw\\\\flight.csv',\n",
       " 'airport_list': 'C:\\\\Users\\\\miejs\\\\Desktop\\\\CodersLab Exam\\\\data\\\\raw\\\\airport_list.csv'}"
      ]
     },
     "execution_count": 7,
     "metadata": {},
     "output_type": "execute_result"
    }
   ],
   "source": [
    "#sprawdzam powstałe ścieżki\n",
    "file_paths"
   ]
  },
  {
   "cell_type": "code",
   "execution_count": 8,
   "metadata": {
    "id": "YeuWXdvVeJCH"
   },
   "outputs": [],
   "source": [
    "raw_data = {}\n",
    "for table_name, file_path in file_paths.items():\n",
    "    raw_data[table_name] = load_raw_data(file_path)"
   ]
  },
  {
   "cell_type": "markdown",
   "metadata": {
    "id": "P7Fp3WbOeJCH"
   },
   "source": [
    " # Eksport danych na bazę\n",
    " Zapoznaj się z dokumentacją metody `Pandas` - [to_sql](https://pandas.pydata.org/docs/reference/api/pandas.DataFrame.to_sql.html), której zadaniem jest wyeksportowanie ramki na bazę danych.\n",
    " Zwróć szczególną uwagę na poniższe parametry:\n",
    " * `if_exists` - jak ma się zachować metoda, gdy ładuje dane na bazę,\n",
    " * `con` - połączenie do bazy,\n",
    " * `name` - nazwa tabeli, do której ramka ma zostać wgrana,\n",
    " * `index` - czy dodawać index z ramki jako kolumnę,\n",
    " * `chunksize` - maksymalna liczba wierszy wgrywana za jednym razem.\n",
    "\n",
    " > **Uwaga:** \n",
    " > Przed eksportem upewnij się, że tabela jest pusta. Zwróć uwagę na pewną subtelną różnicę pomiędzy wyglądem ramki oraz tabeli docelowej na bazie danych.\n",
    "\n",
    "Następnie uzupełnij implementację metody `export_table_to_db`, która przyjmuje dwa argumenty:\n",
    " * `df` - ramka danych do eksportu,\n",
    " * `table_name` - nazwa ramki na bazie.\n",
    "\n",
    "Zalecamy, aby dodać do metody informację, która ramka jest aktualnie ładowana np.:\n",
    " `Loading data into {table_name}...`\n",
    " > Ze względu na rozmiar ramki `flight_df`, proces ten może potrwać nawet kilkadziesiąt minut! Z tego względu, na potrzeby testów, zalecamy przekazanie do procedury `export_table_to_db` np. pierwszych 5 wierszy, aby sprawdzić, czy działa, a potem wgrać cały zestaw danych - pamiętając o upszednim usunięciu tamtych."
   ]
  },
  {
   "cell_type": "code",
   "execution_count": 9,
   "metadata": {
    "id": "jrt2qSqoeJCI"
   },
   "outputs": [],
   "source": [
    "def export_table_to_db(df, table_name, engine):\n",
    "    df.to_sql(name=table_name, con=engine, chunksize=100, if_exists='replace', index=False)"
   ]
  },
  {
   "cell_type": "markdown",
   "metadata": {
    "id": "Sg3ydt36eJCJ"
   },
   "source": [
    " ## Wgrywanie danych"
   ]
  },
  {
   "cell_type": "markdown",
   "metadata": {
    "id": "JuI60XD5eJCK"
   },
   "source": [
    " ### Wgranie `aircraft_df` do tabeli `aircraft`"
   ]
  },
  {
   "cell_type": "code",
   "execution_count": 10,
   "metadata": {
    "id": "kY5OyDnAeJCL"
   },
   "outputs": [
    {
     "name": "stdout",
     "output_type": "stream",
     "text": [
      "Uploading 7383 rows to table aircraft.\n",
      "Uploaded 7383 rows to table aircraft took 0.15983963012695312s.\n",
      "Uploading 46226 rows to table airport_weather.\n",
      "Uploaded 46226 rows to table airport_weather took 2.498711109161377s.\n",
      "Uploading 9251880 rows to table flight.\n",
      "Uploaded 9251880 rows to table flight took 500.53441166877747s.\n",
      "Uploading 97 rows to table airport_list.\n",
      "Uploaded 97 rows to table airport_list took 0.16103434562683105s.\n"
     ]
    }
   ],
   "source": [
    "# Wgrywam wszystkie tabele od razu\n",
    "\n",
    "for table_name, raw_data_df in raw_data.items():\n",
    "    start = time()\n",
    "    print(f'Uploading {raw_data_df.shape[0]} rows to table {table_name}.')\n",
    "    export_table_to_db(raw_data_df, table_name, engine)\n",
    "    end = time()\n",
    "    print(f'Uploaded {raw_data_df.shape[0]} rows to table {table_name} took {end - start}s.')"
   ]
  },
  {
   "cell_type": "markdown",
   "metadata": {
    "id": "rHjxxwgdeJCL"
   },
   "source": [
    " ### Wgranie `airport_weather_df` do tabeli `airport_weather`"
   ]
  },
  {
   "cell_type": "code",
   "execution_count": 11,
   "metadata": {
    "id": "IYvgw-IoeJCL"
   },
   "outputs": [],
   "source": [
    "# j.w"
   ]
  },
  {
   "cell_type": "markdown",
   "metadata": {
    "id": "gFvk6dyzeJCL"
   },
   "source": [
    " ### Wgranie `flight_df` do tabeli `flight`\n",
    " > Wykonanie tej komórki będzie czasochłonne za względu na ilość danych w ramce."
   ]
  },
  {
   "cell_type": "code",
   "execution_count": 12,
   "metadata": {
    "id": "DXF34bXXeJCM"
   },
   "outputs": [],
   "source": [
    "# j.w"
   ]
  },
  {
   "cell_type": "markdown",
   "metadata": {
    "id": "iDoSWOgMeJCM"
   },
   "source": [
    " ### Wgranie `airport_list_df` do tabeli `airport_list`"
   ]
  },
  {
   "cell_type": "code",
   "execution_count": 13,
   "metadata": {
    "id": "nEHvIp4EeJCM"
   },
   "outputs": [],
   "source": [
    "# j.w"
   ]
  },
  {
   "cell_type": "markdown",
   "metadata": {
    "id": "kLMVtoQGeJCM"
   },
   "source": [
    " # Sprawdzenie poprawności wykonania notatnika\n",
    " Uruchom kod poniżej, aby sprawdzić, czy ta część została poprawnie wykonana"
   ]
  },
  {
   "cell_type": "code",
   "execution_count": 14,
   "metadata": {
    "id": "2dYHiIHieJCN"
   },
   "outputs": [],
   "source": [
    "def test_data_export(table_name, expected_count, expected_schema):\n",
    "    real_count = pd.read_sql(f\"SELECT COUNT(*) as cnt FROM {table_name}\", engine).iloc[0][0]\n",
    "    \n",
    "    real_schema = pd.read_sql(f\"SELECT * FROM {table_name} LIMIT 0\", engine)\n",
    "    real_schema = set(real_schema.columns)\n",
    "\n",
    "    expected_schema = set(expected_schema)\n",
    "\n",
    "    diff = real_schema.symmetric_difference(expected_schema)\n",
    "\n",
    "    assert len(diff) == 0, ('Nie zgadzają się kolumny tabel....'\n",
    "    f'\\tOczekiwano: {expected_schema}'\n",
    "    f'\\tOtrzymano: {real_schema}'\n",
    "    f'\\tRóżnica: {diff}')\n",
    "\n",
    "    assert expected_count == real_count, f'Nie zgadza się liczba wierszy, oczekiwano {expected_count}, otrzymano {real_count}'"
   ]
  },
  {
   "cell_type": "markdown",
   "metadata": {
    "id": "cIx10mhIeJCN"
   },
   "source": [
    " ## Sprawdzenie tabeli `aircraft`\n",
    " Uruchom kod poniżej, aby sprawdzić, czy ta część została poprawnie wykonana"
   ]
  },
  {
   "cell_type": "code",
   "execution_count": 15,
   "metadata": {
    "id": "zSAFdpLLeJCN"
   },
   "outputs": [],
   "source": [
    "aircraft_expected_count = 7383\n",
    "aircraft_expected_schema = ['manufacture_year', 'tail_num', 'number_of_seats']\n",
    "\n",
    "test_data_export('aircraft', aircraft_expected_count, aircraft_expected_schema)"
   ]
  },
  {
   "cell_type": "markdown",
   "metadata": {
    "id": "R2GCOkbOeJCN"
   },
   "source": [
    " ## Sprawdzenie tabeli `airport_weather`\n",
    " Uruchom kod poniżej, aby sprawdzić, czy ta część została poprawnie wykonana"
   ]
  },
  {
   "cell_type": "code",
   "execution_count": 16,
   "metadata": {
    "id": "FQxznvjUeJCO"
   },
   "outputs": [],
   "source": [
    "airport_weather_expected_count = 46226\n",
    "airport_weather_expected_schema = ['station', 'name', 'date', 'awnd', 'prcp', 'snow', 'snwd', 'tavg', 'tmax', 'tmin', 'wdf2', 'wdf5', 'wsf2', 'wsf5', 'wt01', 'wt08', 'wt02',\n",
    "       'wt03', 'wt04', 'wt09', 'wt06', 'wt05', 'pgtm', 'wt10', 'wesd', 'sn32',\n",
    "       'sx32', 'psun', 'tsun', 'tobs', 'wt07', 'wt11', 'wt18']\n",
    "\n",
    "test_data_export('airport_weather', airport_weather_expected_count, airport_weather_expected_schema)"
   ]
  },
  {
   "cell_type": "markdown",
   "metadata": {
    "id": "taPX25lQeJCO"
   },
   "source": [
    " ## Sprawdzenie tabeli `flight`\n",
    " Uruchom kod poniżej, aby sprawdzić, czy ta część została poprawnie wykonana"
   ]
  },
  {
   "cell_type": "code",
   "execution_count": 17,
   "metadata": {
    "id": "V-wFqEzreJCO"
   },
   "outputs": [],
   "source": [
    "flight_expected_count = 9251880\n",
    "flight_expected_schema = ['month', 'day_of_month', 'day_of_week', 'op_unique_carrier', 'tail_num',\n",
    "       'op_carrier_fl_num', 'origin_airport_id', 'dest_airport_id',\n",
    "       'crs_dep_time', 'dep_time', 'dep_delay_new', 'dep_time_blk',\n",
    "       'crs_arr_time', 'arr_time', 'arr_delay_new', 'arr_time_blk',\n",
    "       'cancelled', 'crs_elapsed_time', 'actual_elapsed_time', 'distance',\n",
    "       'distance_group', 'year', 'carrier_delay', 'weather_delay', 'nas_delay',\n",
    "       'security_delay', 'late_aircraft_delay']\n",
    "\n",
    "test_data_export('flight', flight_expected_count, flight_expected_schema)"
   ]
  },
  {
   "cell_type": "markdown",
   "metadata": {
    "id": "cxE3lAUAeJCP"
   },
   "source": [
    " ## Sprawdzenie tabeli `airport_list`\n",
    " Uruchom kod poniżej, aby sprawdzić, czy ta część została poprawnie wykonana"
   ]
  },
  {
   "cell_type": "code",
   "execution_count": 18,
   "metadata": {
    "id": "tRD2iJMXeJCP"
   },
   "outputs": [],
   "source": [
    "aircraft_list_expected_count = 97\n",
    "aircraft_list_expected_schema = ['origin_airport_id', 'display_airport_name', 'origin_city_name', 'name']\n",
    "\n",
    "test_data_export('airport_list', aircraft_list_expected_count, aircraft_list_expected_schema)\n"
   ]
  },
  {
   "cell_type": "code",
   "execution_count": 19,
   "metadata": {
    "id": "bKWE8bx2eJCP"
   },
   "outputs": [
    {
     "name": "stdout",
     "output_type": "stream",
     "text": [
      "Wszystko wygląda OK :) Możesz przejść do kolejnego kroku.\n"
     ]
    }
   ],
   "source": [
    "msg = \"Wszystko wygląda OK :) Możesz przejść do kolejnego kroku.\"\n",
    "print(msg)"
   ]
  },
  {
   "cell_type": "markdown",
   "metadata": {
    "id": "24WRkE81eJCP"
   },
   "source": [
    " # Podsumowanie\n",
    " W tym notatniku załadowaliśmy pobrane wcześniej pliki na bazę danych. Dzięki temu stworzyliśmy centralne miejsce ich magazynowania, co wykorzystamy zarówno przy analizie danych, jak i przy późniejszej budowie systemu raportowego."
   ]
  }
 ],
 "metadata": {
  "colab": {
   "provenance": []
  },
  "kernelspec": {
   "display_name": "Python 3 (ipykernel)",
   "language": "python",
   "name": "python3"
  },
  "language_info": {
   "codemirror_mode": {
    "name": "ipython",
    "version": 3
   },
   "file_extension": ".py",
   "mimetype": "text/x-python",
   "name": "python",
   "nbconvert_exporter": "python",
   "pygments_lexer": "ipython3",
   "version": "3.9.13"
  },
  "vscode": {
   "interpreter": {
    "hash": "97b21747a2d6163ce9759ba63e94e55ef90a08103eb2c9ebee1827489f5a0c25"
   }
  }
 },
 "nbformat": 4,
 "nbformat_minor": 1
}
