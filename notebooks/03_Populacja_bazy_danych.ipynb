{
 "cells": [
  {
   "cell_type": "markdown",
   "metadata": {
    "id": "5ElN28rKeJB0"
   },
   "source": [
    " # Populacja bazy sql\n",
    " Zbieram dane z plików csv zapisanych w 1 notatniku i wgrywam do baz danych sql\n"
   ]
  },
  {
   "cell_type": "markdown",
   "metadata": {
    "id": "TyoY8QRdeJB6"
   },
   "source": [
    "Importuję biblioteki"
   ]
  },
  {
   "cell_type": "code",
   "execution_count": 1,
   "metadata": {
    "id": "iNziBCXSeJB_"
   },
   "outputs": [],
   "source": [
    "import pandas as pd\n",
    "from sqlalchemy import create_engine, text\n",
    "\n",
    "import os\n",
    "from time import time"
   ]
  },
  {
   "cell_type": "markdown",
   "metadata": {
    "id": "HRua_IlQeJCB"
   },
   "source": [
    "Konfiguruję połączenie z bazą danych"
   ]
  },
  {
   "cell_type": "code",
   "execution_count": 2,
   "metadata": {
    "id": "wT44iHmEeJCB"
   },
   "outputs": [],
   "source": [
    "# Poniżej\n",
    "user = 'XYZ'\n",
    "password = 'XYZ'\n",
    "host = '127.0.0.1'\n",
    "db_name = 'Airlines'\n",
    "\n",
    "url = f'postgresql://{user}:{password}@{host}/{db_name}'\n",
    "engine = create_engine(url)"
   ]
  },
  {
   "cell_type": "markdown",
   "metadata": {
    "id": "VRQPq0zCeJCE"
   },
   "source": [
    " Ładuję ramki do obszaru roboczego i zmieniam nazwy kolumn na lower case"
   ]
  },
  {
   "cell_type": "code",
   "execution_count": 4,
   "metadata": {
    "id": "53atDnj1eJCF"
   },
   "outputs": [],
   "source": [
    "def load_raw_data(file_name):\n",
    "    raw_data = pd.read_csv(file_name, sep=';')\n",
    "    modified_columns = [column.lower() for column in raw_data.columns]\n",
    "    raw_data.columns = modified_columns\n",
    "    return raw_data"
   ]
  },
  {
   "cell_type": "code",
   "execution_count": 5,
   "metadata": {},
   "outputs": [],
   "source": [
    "table_names = ['aircraft', 'airport_weather', 'flight', 'airport_list']"
   ]
  },
  {
   "cell_type": "code",
   "execution_count": 6,
   "metadata": {},
   "outputs": [],
   "source": [
    "# Tworzę scieżki do plików\n",
    "\n",
    "CURRENT_DIR = os.getcwd()\n",
    "PARENT_DIR = os.path.abspath(os.path.join(CURRENT_DIR, os.pardir))\n",
    "file_paths = {}\n",
    "for table_name in table_names:\n",
    "    file_path = f'{PARENT_DIR}\\\\data\\\\raw\\\\{table_name}.csv'\n",
    "    file_paths[table_name] = file_path"
   ]
  },
  {
   "cell_type": "code",
   "execution_count": 7,
   "metadata": {},
   "outputs": [
    {
     "data": {
      "text/plain": [
       "{'aircraft': 'C:\\\\Users\\\\miejs\\\\Desktop\\\\CodersLab Exam\\\\data\\\\raw\\\\aircraft.csv',\n",
       " 'airport_weather': 'C:\\\\Users\\\\miejs\\\\Desktop\\\\CodersLab Exam\\\\data\\\\raw\\\\airport_weather.csv',\n",
       " 'flight': 'C:\\\\Users\\\\miejs\\\\Desktop\\\\CodersLab Exam\\\\data\\\\raw\\\\flight.csv',\n",
       " 'airport_list': 'C:\\\\Users\\\\miejs\\\\Desktop\\\\CodersLab Exam\\\\data\\\\raw\\\\airport_list.csv'}"
      ]
     },
     "execution_count": 7,
     "metadata": {},
     "output_type": "execute_result"
    }
   ],
   "source": [
    "#sprawdzam powstałe ścieżki\n",
    "file_paths"
   ]
  },
  {
   "cell_type": "code",
   "execution_count": 8,
   "metadata": {
    "id": "YeuWXdvVeJCH"
   },
   "outputs": [],
   "source": [
    "raw_data = {}\n",
    "for table_name, file_path in file_paths.items():\n",
    "    raw_data[table_name] = load_raw_data(file_path)"
   ]
  },
  {
   "cell_type": "markdown",
   "metadata": {
    "id": "P7Fp3WbOeJCH"
   },
   "source": [
    "Eksport danych pandas na bazę sql\n"
   ]
  },
  {
   "cell_type": "code",
   "execution_count": 9,
   "metadata": {
    "id": "jrt2qSqoeJCI"
   },
   "outputs": [],
   "source": [
    "def export_table_to_db(df, table_name, engine):\n",
    "    df.to_sql(name=table_name, con=engine, chunksize=100, if_exists='replace', index=False)"
   ]
  },
  {
   "cell_type": "markdown",
   "metadata": {
    "id": "JuI60XD5eJCK"
   },
   "source": [
    "Wgrywam dane pandas do poszczególnych tabel"
   ]
  },
  {
   "cell_type": "code",
   "execution_count": 10,
   "metadata": {
    "id": "kY5OyDnAeJCL"
   },
   "outputs": [
    {
     "name": "stdout",
     "output_type": "stream",
     "text": [
      "Uploading 7383 rows to table aircraft.\n",
      "Uploaded 7383 rows to table aircraft took 0.15983963012695312s.\n",
      "Uploading 46226 rows to table airport_weather.\n",
      "Uploaded 46226 rows to table airport_weather took 2.498711109161377s.\n",
      "Uploading 9251880 rows to table flight.\n",
      "Uploaded 9251880 rows to table flight took 500.53441166877747s.\n",
      "Uploading 97 rows to table airport_list.\n",
      "Uploaded 97 rows to table airport_list took 0.16103434562683105s.\n"
     ]
    }
   ],
   "source": [
    "# Wgrywam wszystkie tabele od razu\n",
    "\n",
    "for table_name, raw_data_df in raw_data.items():\n",
    "    start = time()\n",
    "    print(f'Uploading {raw_data_df.shape[0]} rows to table {table_name}.')\n",
    "    export_table_to_db(raw_data_df, table_name, engine)\n",
    "    end = time()\n",
    "    print(f'Uploaded {raw_data_df.shape[0]} rows to table {table_name} took {end - start}s.')"
   ]
  }
 ],
 "metadata": {
  "colab": {
   "provenance": []
  },
  "kernelspec": {
   "display_name": "Python 3 (ipykernel)",
   "language": "python",
   "name": "python3"
  },
  "language_info": {
   "codemirror_mode": {
    "name": "ipython",
    "version": 3
   },
   "file_extension": ".py",
   "mimetype": "text/x-python",
   "name": "python",
   "nbconvert_exporter": "python",
   "pygments_lexer": "ipython3",
   "version": "3.9.13"
  },
  "vscode": {
   "interpreter": {
    "hash": "97b21747a2d6163ce9759ba63e94e55ef90a08103eb2c9ebee1827489f5a0c25"
   }
  }
 },
 "nbformat": 4,
 "nbformat_minor": 1
}
