{
 "cells": [
  {
   "cell_type": "markdown",
   "metadata": {},
   "source": [
    " # Tworzenie baz sql\n",
    " Tworzę dedykowaną bazę danych wraz ze strukturą tabel, do której wrzucam dane `airport`,`weather`,`aircraft`,`flights` i "
   ]
  },
  {
   "cell_type": "markdown",
   "metadata": {},
   "source": [
    "Importuję biblioteki"
   ]
  },
  {
   "cell_type": "code",
   "execution_count": 1,
   "metadata": {},
   "outputs": [],
   "source": [
    "from psycopg2 import connect\n",
    "import os"
   ]
  },
  {
   "cell_type": "markdown",
   "metadata": {},
   "source": [
    "Łączę z bazą danych"
   ]
  },
  {
   "cell_type": "code",
   "execution_count": 2,
   "metadata": {},
   "outputs": [],
   "source": [
    "user='XYZ'\n",
    "password='XYZ'\n",
    "host=\"127.0.0.1\"\n",
    "database='Airlines'\n",
    "\n",
    "cnx = connect(user=user,\n",
    "              password=password,\n",
    "              host=host,\n",
    "              database=database)\n",
    "\n",
    "cursor = cnx.cursor()"
   ]
  },
  {
   "cell_type": "markdown",
   "metadata": {},
   "source": [
    "Wczytuję wcześniej przygotowany plik `database_schema.sql`,w którym zawieram cały skrypt tworzenia tabel z określonymi kolumnami."
   ]
  },
  {
   "cell_type": "code",
   "execution_count": 5,
   "metadata": {},
   "outputs": [],
   "source": [
    "CURRENT_DIR = os.getcwd()\n",
    "PARENT_DIR = os.path.abspath(os.path.join(CURRENT_DIR, os.pardir))\n",
    "abs_file_path = f'{PARENT_DIR}\\\\sql\\\\database_schema.sql'\n",
    "\n",
    "with open(abs_file_path, 'r') as file:\n",
    "    sql_script = file.read()"
   ]
  },
  {
   "cell_type": "markdown",
   "metadata": {},
   "source": [
    "Rozdzielam zawartość przygotowanego wcześniej pliku `database_schema.sql` na mniejsze kwerendy używając `;`, inicjuję kwerendy, zatwierdzam."
   ]
  },
  {
   "cell_type": "code",
   "execution_count": 6,
   "metadata": {},
   "outputs": [],
   "source": [
    "queries = sql_script.split(';')\n",
    "\n",
    "for query in queries:\n",
    "    cursor.execute(query)\n",
    "\n",
    "cnx.commit()"
   ]
  }
 ],
 "metadata": {
  "kernelspec": {
   "display_name": "Python 3 (ipykernel)",
   "language": "python",
   "name": "python3"
  },
  "language_info": {
   "codemirror_mode": {
    "name": "ipython",
    "version": 3
   },
   "file_extension": ".py",
   "mimetype": "text/x-python",
   "name": "python",
   "nbconvert_exporter": "python",
   "pygments_lexer": "ipython3",
   "version": "3.11.9"
  },
  "vscode": {
   "interpreter": {
    "hash": "9b2e3ed8f662d376c33c57cbfb268747fd53751e2c8e228ca6074e1644efdc03"
   }
  }
 },
 "nbformat": 4,
 "nbformat_minor": 2
}
